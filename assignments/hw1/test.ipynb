{
 "cells": [
  {
   "cell_type": "markdown",
   "metadata": {},
   "source": [
    "## ESS - 590C - Au22\n",
    "#### Homework 1\n",
    "#### Yiyu Ni (niyiyu@uw.edu)\n",
    "#### Earth and Space Sciences\n",
    "#### University of Washington"
   ]
  },
  {
   "cell_type": "code",
   "execution_count": 2,
   "metadata": {},
   "outputs": [],
   "source": [
    "import matplotlib.pyplot as plt\n",
    "import numpy as np"
   ]
  },
  {
   "cell_type": "code",
   "execution_count": 15,
   "metadata": {},
   "outputs": [],
   "source": [
    "for idd in range(3):\n",
    "    d = np.random.rand(10, 10)\n",
    "    plt.figure(figsize=(10, 10), dpi = 300)\n",
    "    plt.imshow(d, cmap = \"seismic\")\n",
    "    plt.savefig(f\"./{idd}.png\", bbox_inches = 'tight')\n",
    "    plt.close()"
   ]
  },
  {
   "cell_type": "code",
   "execution_count": null,
   "metadata": {},
   "outputs": [],
   "source": []
  }
 ],
 "metadata": {
  "kernelspec": {
   "display_name": "Python 3.8.12 ('asdf')",
   "language": "python",
   "name": "python3"
  },
  "language_info": {
   "codemirror_mode": {
    "name": "ipython",
    "version": 3
   },
   "file_extension": ".py",
   "mimetype": "text/x-python",
   "name": "python",
   "nbconvert_exporter": "python",
   "pygments_lexer": "ipython3",
   "version": "3.8.12"
  },
  "orig_nbformat": 4,
  "vscode": {
   "interpreter": {
    "hash": "4b68ce279f94aaca943f82b77f7689ea3c81f74af4051401ba27986c5deac96c"
   }
  }
 },
 "nbformat": 4,
 "nbformat_minor": 2
}
